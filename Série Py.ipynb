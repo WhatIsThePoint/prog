{
 "cells": [
  {
   "cell_type": "code",
   "execution_count": 7,
   "metadata": {},
   "outputs": [
    {
     "name": "stdout",
     "output_type": "stream",
     "text": [
      "Donner nom: Youssef\n",
      "Donner num de compte: 765756567\n",
      "donner le montant: 34453.567\n",
      "{'nom': 'Youssef', 'Num De Compte': 765756567, 'Montant': 34453.567}\n"
     ]
    }
   ],
   "source": [
    "#Ex banque\n",
    "def func():\n",
    "    x=input('Donner nom: ')\n",
    "    y=input(\"Donner num de compte: \")\n",
    "    while (y.isnumeric()==False):\n",
    "        y=input(\"Donner num de compte Valid: \")\n",
    "    m=input(\"donner le montant: \")\n",
    "    while (m.isnumeric()==True or m.isalpha()==True ):\n",
    "        m=input(\"donner le montant Valid: \")\n",
    "    AccBanque={\"nom\":x,\"Num De Compte\":int(y),\"Montant\":float(m)}\n",
    "    print(AccBanque)\n",
    "func()"
   ]
  },
  {
   "cell_type": "code",
   "execution_count": 6,
   "metadata": {},
   "outputs": [
    {
     "name": "stdout",
     "output_type": "stream",
     "text": [
      "5+2i\n"
     ]
    }
   ],
   "source": [
    "#ExComplex\n",
    "def comp (rea,img):\n",
    "    return ( str(rea)+\"+\"+str(img)+\"i\")\n",
    "x = comp (5,2)\n",
    "print(x)"
   ]
  },
  {
   "cell_type": "code",
   "execution_count": 12,
   "metadata": {},
   "outputs": [
    {
     "name": "stdout",
     "output_type": "stream",
     "text": [
      "Donner jour: 12\n",
      "Donner mois: 04\n",
      "Donner Anne: 2017\n",
      "{'Jour': 12, 'Mois': '04', 'Année': 2017}\n"
     ]
    }
   ],
   "source": [
    "#ExDate\n",
    "def func():\n",
    "    jour=input(\"Donner jour: \")\n",
    "    while (jour.isnumeric()==False):\n",
    "        jour=input(\"Donner jour: \")\n",
    "    Mois=input(\"Donner mois: \")\n",
    "    while (Mois.isnumeric()==False):\n",
    "        Mois=input(\"Donner mois: \")\n",
    "    Anne=input(\"Donner Anne: \")\n",
    "    while (Anne.isnumeric()==False):\n",
    "        jour=input(\"Donner Anné: \")\n",
    "    Date={\"Jour\":int(jour),\"Mois\":str(Mois),\"Année\":int(Anne)}\n",
    "    print(Date)\n",
    "func()"
   ]
  },
  {
   "cell_type": "code",
   "execution_count": 14,
   "metadata": {},
   "outputs": [
    {
     "name": "stdout",
     "output_type": "stream",
     "text": [
      "Info Personelle\n",
      "Donner Login: Youssef\n",
      "Donner Mot de passe: Ascvfj234\n",
      "Date De Naissance\n",
      "Donner jour: 11\n",
      "Donner mois: 03\n",
      "Donner Anne: 2004\n",
      "{'Login': 'Youssef', 'Password': 'Ascvfj234', 'Date De naissance': {'Jour': 11, 'Mois': '03', 'Année': 2004}}\n"
     ]
    }
   ],
   "source": [
    "#ExFacebook\n",
    "def func():\n",
    "    print(\"Info Personelle\")\n",
    "    x=input('Donner Login: ')\n",
    "    y=input(\"Donner Mot de passe: \")\n",
    "    print(\"Date De Naissance\")\n",
    "    jour=input(\"Donner jour: \")\n",
    "    while (jour.isnumeric()==False):\n",
    "        jour=input(\"Donner jour: \")\n",
    "    Mois=input(\"Donner mois: \")\n",
    "    while (Mois.isnumeric()==False):\n",
    "        Mois=input(\"Donner mois: \")\n",
    "    Anne=input(\"Donner Anne: \")\n",
    "    while (Anne.isnumeric()==False):\n",
    "        jour=input(\"Donner Anné: \")\n",
    "    Date={\"Jour\":int(jour),\"Mois\":str(Mois),\"Année\":int(Anne)}\n",
    "    Fb={\"Login\":x,\"Password\":y,\"Date De naissance\":Date}\n",
    "    print(Fb)\n",
    "func()"
   ]
  },
  {
   "cell_type": "code",
   "execution_count": null,
   "metadata": {},
   "outputs": [],
   "source": [
    "### Ex2\n",
    "def fun():\n",
    "    e=[]\n",
    "    n=int(input(\"Donner nombre d'employes: \"))\n",
    "    while (n>100 or n<5):\n",
    "        n=int(input(\"Donner nombre d'employes: \"))\n",
    "    for i in range (n):\n",
    "        print(\"\\________Emplyoés N°{}_________/\".format(i+1))\n",
    "        d={}\n",
    "        d[\"Nom\"]=input(\"Donner votre nom: \")\n",
    "        while( d[\"Nom\"].isalpha()==False):\n",
    "            d[\"Nom\"]=input(\"Donner votre nom: \")\n",
    "        d[\"Prénom\"]=input(\"Donner votre Prénom: \")\n",
    "        while( d[\"Prénom\"].isalpha()==False):\n",
    "            d[\"Prénom\"]=input(\"Donner votre Prénom: \")\n",
    "        d[\"N° CIN\"]=input(\"Donner N° CIN: \")\n",
    "        while( d[\"N° CIN\"].isnumeric()==False):\n",
    "            d[\"N° CIN\"]=input(\"Donner N° CIN: \") \n",
    "        d[\"N° CIN\"]=str(d[\"N° CIN\"])\n",
    "        d[\"L’année d’embauche\"]=input(\"Donner L’année d’embauche: \")\n",
    "        while( d[\"L’année d’embauche\"].isnumeric()==False or (int(d[\"L’année d’embauche\"]))<2000):\n",
    "            d[\"L’année d’embauche\"]=input(\"Donner L’année d’embauche: \")  \n",
    "        d[\"Adresse\"]=input(\"Donner Adresse: \")\n",
    "        d[\"N° Tel\"]=input(\"Donner N° Tel: \")\n",
    "        while( d[\"N° Tel\"].isnumeric()==False or  (len(d[\"N° Tel\"]))!=8):\n",
    "            d[\"N° Tel\"]=input(\"Donner N° Tel: \")\n",
    "        e.append(d)\n",
    "    print(\"----------------------------------------------List Des Employés------------------------------------------------\")\n",
    "    for i in (e):\n",
    "        print(i,'\\n')\n",
    "fun()"
   ]
  },
  {
   "cell_type": "code",
   "execution_count": null,
   "metadata": {},
   "outputs": [],
   "source": []
  },
  {
   "cell_type": "code",
   "execution_count": null,
   "metadata": {},
   "outputs": [],
   "source": []
  }
 ],
 "metadata": {
  "kernelspec": {
   "display_name": "Python 3",
   "language": "python",
   "name": "python3"
  },
  "language_info": {
   "codemirror_mode": {
    "name": "ipython",
    "version": 3
   },
   "file_extension": ".py",
   "mimetype": "text/x-python",
   "name": "python",
   "nbconvert_exporter": "python",
   "pygments_lexer": "ipython3",
   "version": "3.8.5"
  }
 },
 "nbformat": 4,
 "nbformat_minor": 4
}
